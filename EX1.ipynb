{
 "cells": [
  {
   "cell_type": "code",
   "execution_count": 3,
   "id": "95f8dc34-8d56-4c5e-8f8e-72276fdee107",
   "metadata": {},
   "outputs": [
    {
     "name": "stdout",
     "output_type": "stream",
     "text": [
      "  Month Product  Sales\n",
      "0   Jan       A    150\n",
      "1   Feb       A    200\n",
      "2   Mar       A    250\n",
      "3   Jan       B    300\n",
      "4   Feb       B    400\n",
      "5   Mar       B    500\n"
     ]
    }
   ],
   "source": [
    "import pandas as pd\n",
    "\n",
    "\n",
    "data = {\n",
    "    'Month': ['Jan', 'Feb', 'Mar', 'Jan', 'Feb', 'Mar'],\n",
    "    'Product': ['A', 'A', 'A', 'B', 'B', 'B'],\n",
    "    'Sales': [150, 200, 250, 300, 400, 500]\n",
    "}\n",
    "\n",
    "sales_data = pd.DataFrame(data)\n",
    "print(sales_data)"
   ]
  },
  {
   "cell_type": "code",
   "execution_count": 5,
   "id": "5f95723b-3416-4dbe-b288-a0227f147fd6",
   "metadata": {},
   "outputs": [
    {
     "name": "stdout",
     "output_type": "stream",
     "text": [
      "Product\n",
      "A     600\n",
      "B    1200\n",
      "Name: Sales, dtype: int64\n"
     ]
    }
   ],
   "source": [
    "total_sales_per_product = sales_data.groupby('Product')['Sales'].sum()\n",
    "print(total_sales_per_product)"
   ]
  },
  {
   "cell_type": "code",
   "execution_count": 7,
   "id": "01901ea8-a954-4121-9ed9-0db358cc5416",
   "metadata": {},
   "outputs": [
    {
     "name": "stdout",
     "output_type": "stream",
     "text": [
      "  Product Month  Sales\n",
      "2       A   Mar    250\n",
      "5       B   Mar    500\n"
     ]
    }
   ],
   "source": [
    "max_sales_per_product = sales_data.loc[sales_data.groupby('Product')['Sales'].idxmax()]\n",
    "print(max_sales_per_product[['Product', 'Month', 'Sales']])"
   ]
  },
  {
   "cell_type": "code",
   "execution_count": 12,
   "id": "1b14528b-ce5f-4906-ab50-be0eeb184ada",
   "metadata": {},
   "outputs": [],
   "source": [
    "total_sales = sales_data.groupby('Product')['Sales'].transform('sum')"
   ]
  },
  {
   "cell_type": "code",
   "execution_count": 15,
   "id": "29a470ac-5872-4408-b0aa-0e11906d8b9c",
   "metadata": {},
   "outputs": [
    {
     "name": "stdout",
     "output_type": "stream",
     "text": [
      "  Month Product  Sales  Sales_Percentage\n",
      "0   Jan       A    150         25.000000\n",
      "1   Feb       A    200         33.333333\n",
      "2   Mar       A    250         41.666667\n",
      "3   Jan       B    300         25.000000\n",
      "4   Feb       B    400         33.333333\n",
      "5   Mar       B    500         41.666667\n"
     ]
    }
   ],
   "source": [
    "sales_data['Sales_Percentage'] = (sales_data['Sales'] / total_sales) * 100\n",
    "print(sales_data)"
   ]
  },
  {
   "cell_type": "code",
   "execution_count": null,
   "id": "21e03a63-22d7-4ef4-ad71-22e079767e84",
   "metadata": {},
   "outputs": [],
   "source": []
  }
 ],
 "metadata": {
  "kernelspec": {
   "display_name": "Python 3 (ipykernel)",
   "language": "python",
   "name": "python3"
  },
  "language_info": {
   "codemirror_mode": {
    "name": "ipython",
    "version": 3
   },
   "file_extension": ".py",
   "mimetype": "text/x-python",
   "name": "python",
   "nbconvert_exporter": "python",
   "pygments_lexer": "ipython3",
   "version": "3.12.4"
  }
 },
 "nbformat": 4,
 "nbformat_minor": 5
}
